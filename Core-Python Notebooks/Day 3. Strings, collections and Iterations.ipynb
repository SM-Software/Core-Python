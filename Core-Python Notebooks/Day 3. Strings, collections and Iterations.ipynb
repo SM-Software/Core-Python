{
 "cells": [
  {
   "attachments": {},
   "cell_type": "markdown",
   "metadata": {},
   "source": [
    "## Collections\n",
    "\n",
    "### Strings (str)\n",
    "- Data type for strings in python\n",
    "- Sequence of unicode code points\n",
    "- Immutable\n",
    "- Can use single quotes and double quotes\n",
    "\n",
    "### Multi-Line String\n",
    "- This string are inserted inside \"\"\"\n",
    "- Universal Newlines: python traslates \\n to the appropriate newline sequence for your platform\n",
    "\n",
    "- String can be used like below for assigning the path to the variable using r'. It will not mandate you \n"
   ]
  },
  {
   "cell_type": "code",
   "execution_count": 5,
   "metadata": {},
   "outputs": [
    {
     "name": "stdout",
     "output_type": "stream",
     "text": [
      "This is\n",
      "a multi-line\n",
      "string \n",
      " \n",
      "\n",
      "c:\\Users\\xyz\\Documents\n",
      "capitalize version:  Saumya\n"
     ]
    }
   ],
   "source": [
    "dummy = \"\"\"This is\n",
    "a multi-line\n",
    "string\"\"\"\n",
    "print(dummy, \"\\n \\n\")\n",
    "\n",
    "\n",
    "path = r'c:\\Users\\xyz\\Documents'\n",
    "print(path)\n",
    "\n",
    "name = \"saumya\"\n",
    "print(\"capitalize version: \", name.capitalize())"
   ]
  },
  {
   "attachments": {},
   "cell_type": "markdown",
   "metadata": {},
   "source": [
    "### List\n",
    "- List is the sequence of objects\n",
    "- List are mutable (the data in the memory can be replaced or modified).\n",
    "- We can retrieve the list values using the zero based index"
   ]
  },
  {
   "cell_type": "code",
   "execution_count": 11,
   "metadata": {},
   "outputs": [
    {
     "name": "stdout",
     "output_type": "stream",
     "text": [
      "List x =  [1, 2, 3]\n",
      "List s before modification ['saumya', 'Ranjan', 'Mishra']\n",
      "['saumya ranjan', '', 'Mishra']\n",
      "list s after appending ['saumya ranjan', '', 'Mishra', 'extra details']\n",
      "list of chars =  ['c', 'h', 'a', 'r', 'a', 'c', 't', 'e', 'r', 's']\n"
     ]
    }
   ],
   "source": [
    "x = [1,2,3]\n",
    "s = [\"saumya\", \"Ranjan\", \"Mishra\"]\n",
    "\n",
    "print(\"List x = \", x)\n",
    "print(\"List s before modification\", s)\n",
    "# can replace the item simply by assigning the value to a zero index referenced list\n",
    "s[0] = \"saumya ranjan\"\n",
    "s[1] = \"\"\n",
    "\n",
    "print(s)\n",
    "\n",
    "# can add the additional items using the append method\n",
    "s.append(\"extra details\")\n",
    "print(\"list s after appending\", s)\n",
    "\n",
    "# Can use list constructor to create the list from other data types\n",
    "charList = list(\"characters\")\n",
    "print(\"list of chars = \", charList)"
   ]
  },
  {
   "attachments": {},
   "cell_type": "markdown",
   "metadata": {},
   "source": [
    "### Dict\n",
    "- This is the key value pairs\n",
    "- It maps keys to value\n",
    "- Also known as maps or associative arrays\n",
    "- Can be created like {K1: v1, K2: v2}"
   ]
  },
  {
   "cell_type": "code",
   "execution_count": 19,
   "metadata": {},
   "outputs": [
    {
     "name": "stdout",
     "output_type": "stream",
     "text": [
      "{'aliace': 909090, 'bob': 898989}\n",
      "Alias before change 909090\n",
      "Alias after change 9000000\n",
      "dict_keys(['aliace', 'bob'])\n"
     ]
    }
   ],
   "source": [
    "# creating the dict type\n",
    "d = {'aliace': 909090, 'bob': 898989}\n",
    "print(d)\n",
    "\n",
    "# we can get the value using keys\n",
    "print(\"Alias before change\", d['aliace'])\n",
    "\n",
    "# can modify the values as below\n",
    "d['aliace'] = 9000000\n",
    "print(\"Alias after change\", d['aliace'])\n",
    "\n",
    "# can get the list of keys as below\n",
    "print(d.keys())\n"
   ]
  },
  {
   "cell_type": "code",
   "execution_count": 21,
   "metadata": {},
   "outputs": [
    {
     "name": "stdout",
     "output_type": "stream",
     "text": [
      "odisha 0685\n",
      "hyderabad 040\n"
     ]
    }
   ],
   "source": [
    "# effectively using the for loop to visit each item in list in an iterable sequence\n",
    "stateCodes = {\"odisha\": \"0685\", \"hyderabad\": \"040\"}\n",
    "cities = stateCodes.keys()\n",
    "for city in cities:\n",
    "    print(city, stateCodes[city])"
   ]
  }
 ],
 "metadata": {
  "kernelspec": {
   "display_name": "Python 3",
   "language": "python",
   "name": "python3"
  },
  "language_info": {
   "codemirror_mode": {
    "name": "ipython",
    "version": 3
   },
   "file_extension": ".py",
   "mimetype": "text/x-python",
   "name": "python",
   "nbconvert_exporter": "python",
   "pygments_lexer": "ipython3",
   "version": "3.11.1 (tags/v3.11.1:a7a450f, Dec  6 2022, 19:58:39) [MSC v.1934 64 bit (AMD64)]"
  },
  "orig_nbformat": 4,
  "vscode": {
   "interpreter": {
    "hash": "2469a70536e4d2335a2ea8907942d0699c37342a371ac185bdb5b0aa6f073890"
   }
  }
 },
 "nbformat": 4,
 "nbformat_minor": 2
}
