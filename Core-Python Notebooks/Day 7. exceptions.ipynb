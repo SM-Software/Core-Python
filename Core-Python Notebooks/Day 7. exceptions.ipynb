{
 "cells": [
  {
   "attachments": {},
   "cell_type": "markdown",
   "metadata": {},
   "source": [
    "## Exeptions\n",
    "\n",
    "### Exception Handling\n",
    "- Exception handling is a mechanis for interupting normal program flow and continuing in surrounding context\n",
    "- we can handle the exception in python using the try..except block\n",
    "- If we want to have an expect block do nopthing we can have a \"pass\" command.\n",
    "- we can hanld ehte exception object na dprint the error by using sys.stderr\n",
    "\n",
    "### types of exception to be raised\n",
    "#### standard types\n",
    "- python provides standard exceptions types for signalling common errors\n",
    "#### Invalid arguments values \n",
    "- Use ValueError for arguments of the right type but with an invalid value\n",
    "#### Value error\n",
    "- use raise ValueError() to raise a new value error\n",
    " "
   ]
  },
  {
   "cell_type": "code",
   "execution_count": 3,
   "metadata": {},
   "outputs": [
    {
     "name": "stdout",
     "output_type": "stream",
     "text": [
      "devide by zero raised an exception\n"
     ]
    }
   ],
   "source": [
    "def exception_demo():\n",
    "    try:\n",
    "        x = 10/0\n",
    "        print(\"thi is x\", x)\n",
    "    except:\n",
    "        print(\"devide by zero raised an exception\")\n",
    "\n",
    "exception_demo()"
   ]
  },
  {
   "cell_type": "code",
   "execution_count": null,
   "metadata": {},
   "outputs": [],
   "source": [
    "# we can also handle multiple exception into one expect using something like below.\n",
    "\n",
    "def exception_demo():\n",
    "    try:\n",
    "        x = 10/0\n",
    "        print(\"thi is x\", x)\n",
    "    except(KeyError, TypeError):\n",
    "        print(\"devide by zero raised an exception\")\n",
    "        # this exception will the raised, most likely like the throw in another language\n",
    "        raise\n",
    "\n",
    "exception_demo()"
   ]
  },
  {
   "attachments": {},
   "cell_type": "markdown",
   "metadata": {},
   "source": [
    "### Exceptions and protocols\n",
    "- the tyoes that has the sequences protocol should raise IndecError for out of bound indexing\n",
    "- existing build-in exceptions are often the right ones to use."
   ]
  },
  {
   "attachments": {},
   "cell_type": "markdown",
   "metadata": {},
   "source": [
    "### Different types of exceptions\n",
    "- IndexError: An integer index is out of range\n",
    "- ValueError: An object is of the right type but has the inappropriate value\n",
    "- KeyError: A lookup in a mapping failed\n",
    "- OSError: All file related errors, like file not found, directory not found, etc\n",
    "- ImportError: when we are trying to import the other platform modules."
   ]
  },
  {
   "attachments": {},
   "cell_type": "markdown",
   "metadata": {},
   "source": [
    "### Finally\n",
    "- The block will be executed irrespective of how try block exits"
   ]
  },
  {
   "attachments": {},
   "cell_type": "markdown",
   "metadata": {},
   "source": [
    "### Cross platform execution of the python code\n",
    "- We have some platform specific modules in python. For ex: for the key press we have to use the msvcrt in windows and tty or termios module for linux or mac\n",
    "\n",
    "- if we try to import the other paltform module we will got an ImportError"
   ]
  }
 ],
 "metadata": {
  "kernelspec": {
   "display_name": "Python 3",
   "language": "python",
   "name": "python3"
  },
  "language_info": {
   "codemirror_mode": {
    "name": "ipython",
    "version": 3
   },
   "file_extension": ".py",
   "mimetype": "text/x-python",
   "name": "python",
   "nbconvert_exporter": "python",
   "pygments_lexer": "ipython3",
   "version": "3.11.1"
  },
  "orig_nbformat": 4,
  "vscode": {
   "interpreter": {
    "hash": "2469a70536e4d2335a2ea8907942d0699c37342a371ac185bdb5b0aa6f073890"
   }
  }
 },
 "nbformat": 4,
 "nbformat_minor": 2
}
