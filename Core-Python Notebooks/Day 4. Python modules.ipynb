{
 "cells": [
  {
   "attachments": {},
   "cell_type": "markdown",
   "metadata": {},
   "source": [
    "## Python Modules\n",
    "- python modules can be imported into REPL, by simply giving the file name of the python file by ommiting the py extension.\n",
    "- For example if the python program file name is named as first_program.py then the module can be imported as \n",
    "```\n",
    "import first_program\n",
    "```\n",
    "- If a function is declared inside any module or lets say the python program then we can import the fucntion using below syntax\n",
    "```\n",
    "import function_name from module_name\n",
    "```\n",
    "\n",
    "- If there are multiple methds that want to import from a module then we can use the below syntax\n",
    "```\n",
    "from module_name import (comma, separated, function_names)\n",
    "```\n",
    " Is tead of the comma separated function name we can use the * to import all the methods that are declared inside an module."
   ]
  },
  {
   "attachments": {},
   "cell_type": "markdown",
   "metadata": {},
   "source": [
    "## Python Function\n",
    "- The syntax of the function in the python is as follows\n",
    "```\n",
    "def <function-name>(<arguments>):\n",
    "    function body\n",
    "\n",
    "```\n",
    "- Below is the sample function in the python that returns the square of the number\n",
    "- We can also accept the arguments from the command line while using REPL. Wfor that we have to import the sys module and use get the arguments using sys.argv[1]\n",
    "\n",
    "```\n",
    "import sys\n",
    "...\n",
    "...\n",
    "...\n",
    "x = sys.argv[1]\n",
    "```"
   ]
  },
  {
   "cell_type": "code",
   "execution_count": 3,
   "metadata": {},
   "outputs": [
    {
     "name": "stdout",
     "output_type": "stream",
     "text": [
      "square is  25\n",
      "Givem number is even\n",
      "given number is odd\n"
     ]
    }
   ],
   "source": [
    "def square(x):\n",
    "    return x*x\n",
    "\n",
    "def even_or_odd(n):\n",
    "    if(n%2 == 0):\n",
    "        print(\"Givem number is even\")\n",
    "        return\n",
    "    elif(n%2 != 0):\n",
    "        print(\"given number is odd\")\n",
    "        return\n",
    "\n",
    "sq = square(5)\n",
    "print(\"square is \", sq)\n",
    "even_or_odd(4)\n",
    "even_or_odd(9)"
   ]
  },
  {
   "attachments": {},
   "cell_type": "markdown",
   "metadata": {},
   "source": [
    "## Special variable name \n",
    "- Also known as dunder name (something that suffix and prefix a double underscore), allows us to detect weather a module is run as a script or imported into another module.\n",
    "\n",
    "- For example, the print statement at the end of any module like print(__name__) will result in rpinting the name of the module imported while using REPL. Also the print statement will also be executed only the first time the module is imported as the module code is executed once only when it is imported\n",
    "\n",
    "- we can use this to even decide the default behaviour, for example we want to execute a function by-default whn the module is imported into a REPL. like one in the example given below\n",
    "\n",
    "if __name__ == '__main__':\n",
    "    function_name_to_execute()"
   ]
  },
  {
   "attachments": {},
   "cell_type": "markdown",
   "metadata": {},
   "source": [
    "## Python execution model\n",
    "- The def keyword is not a declaration but a statement in the python\n",
    "- When the code is ran sequentailly it causes the function call to be bound to the fucntion body\n",
    "- Top -level function are defined when a module is imported or run"
   ]
  },
  {
   "attachments": {},
   "cell_type": "markdown",
   "metadata": {},
   "source": [
    "## Python script vs modules vs package vs library\n",
    "\n",
    "### Script\n",
    "A script is a Python file that’s intended to be run directly. When you run it, it should do something. This means that scripts will often contain code written outside the scope of any classes or functions.\n",
    "\n",
    "\n",
    "### Module\n",
    "A module is a Python file that’s intended to be imported into scripts or other modules. It often defines members like classes, functions, and variables intended to be used in other files that import it.\n",
    "\n",
    "\n",
    "### Package\n",
    "A package is a collection of related modules that work together to provide certain functionality. These modules are contained within a folder and can be imported just like any other modules. This folder will often contain a special __init__ file that tells Python it’s a package, potentially containing more modules nested within subfolders\n",
    "\n",
    "### Library\n",
    "A library is an umbrella term that loosely means “a bundle of code.” These can have tens or even hundreds of individual modules that can provide a wide range of functionality. Matplotlib is a plotting library. The Python Standard Library contains hundreds of modules for performing common tasks, like sending emails or reading JSON data. What’s special about the Standard Library is that it comes bundled with your installation of Python, so you can use its modules without having to download them from anywhere."
   ]
  },
  {
   "attachments": {},
   "cell_type": "markdown",
   "metadata": {},
   "source": [
    "## Docstrings\n",
    "- This are the literal strings that document function modules and classes\n",
    "- They must be the first statement in the block for these constructs\n",
    "- They must be incluced in the \"\"\" \"\"\"\n",
    "- In the google's python style guide we have to maintain the beow structure\n",
    "\"\"\" Something about the function\n",
    "\n",
    "Args:\n",
    "arg1: \n",
    "arg 2\n",
    "\n",
    "Returns \n",
    "    what does the fucntion returns.\n",
    "\"\"\"\n",
    "\n",
    "- This can then be seen in an REPL when we say help \"function_name\" of a module"
   ]
  }
 ],
 "metadata": {
  "kernelspec": {
   "display_name": "Python 3",
   "language": "python",
   "name": "python3"
  },
  "language_info": {
   "codemirror_mode": {
    "name": "ipython",
    "version": 3
   },
   "file_extension": ".py",
   "mimetype": "text/x-python",
   "name": "python",
   "nbconvert_exporter": "python",
   "pygments_lexer": "ipython3",
   "version": "3.11.1"
  },
  "orig_nbformat": 4,
  "vscode": {
   "interpreter": {
    "hash": "2469a70536e4d2335a2ea8907942d0699c37342a371ac185bdb5b0aa6f073890"
   }
  }
 },
 "nbformat": 4,
 "nbformat_minor": 2
}
