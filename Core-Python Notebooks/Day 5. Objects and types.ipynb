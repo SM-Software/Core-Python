{
 "cells": [
  {
   "attachments": {},
   "cell_type": "markdown",
   "metadata": {},
   "source": [
    " ## Objects and Types\n",
    "- The types in python are immutable. That is a change in the value results in creation of a new object rather than modify the existing object\n",
    "\n",
    "- The id() in python returns an unique integer identifier for an object htat is constant for the life of the object\n",
    "\n",
    "- List object in python is a mutuable object\n"
   ]
  },
  {
   "attachments": {},
   "cell_type": "markdown",
   "metadata": {},
   "source": [
    "## Value vs identity equality \n",
    "- == checks for the value equality where as the is operator in python checks the identity equality\n",
    "- Moreover, the value equality is defined by the programs and can be controlled progamiatically, but the identity comparision is unalterably defined by the language"
   ]
  },
  {
   "cell_type": "code",
   "execution_count": 2,
   "metadata": {},
   "outputs": [
    {
     "name": "stdout",
     "output_type": "stream",
     "text": [
      "True\n",
      "False\n"
     ]
    }
   ],
   "source": [
    "p = [1,4,3]\n",
    "q = [1,4,3]\n",
    "print(p==q)\n",
    "print(p is q)"
   ]
  },
  {
   "attachments": {},
   "cell_type": "markdown",
   "metadata": {},
   "source": [
    "## Function arguments and the object reference\n",
    "- function arguments and return values are transfered using pass-by-object-refernce\n",
    "- references to objects are copied, but not the object themselves."
   ]
  },
  {
   "attachments": {},
   "cell_type": "markdown",
   "metadata": {},
   "source": [
    "## Default argument values\n",
    "- the functions in pythn can have a non-mandatory argument if it has a default value defined.\n",
    "- like function(message, separator='-')\n",
    "- The arguments with default values must come after those without the default values\n",
    "- Remember that the default arguments are evaluate when def is executed. That is only once.\n",
    "- similarly when we use the mutable objects for the default arguments the values of the object will be there due to pass by reference behaviour, to resolve this issue, we can always use the immutable objects for the default types in the python functions"
   ]
  },
  {
   "attachments": {},
   "cell_type": "markdown",
   "metadata": {},
   "source": [
    "## Python type system\n",
    "- Python uses a dynamic type system, i.e., the type of the variable is not resolved unless it is ran and there is no type provided when assigning the value in the program\n",
    "\n",
    "> note: Python will not generally perform the implicit type system conversion on its own."
   ]
  },
  {
   "attachments": {},
   "cell_type": "markdown",
   "metadata": {},
   "source": [
    "## Scopes\n",
    "- In python there are 4 types of scopes. The list of scopes from narrowest to broadest are\n",
    "    - local : inside a funcion\n",
    "    - enclosing: enclosing function\n",
    "    - global: at the top level module. each module brings a global level scope.\n",
    "    - Build-in ; in the special build-in modules"
   ]
  }
 ],
 "metadata": {
  "kernelspec": {
   "display_name": "Python 3",
   "language": "python",
   "name": "python3"
  },
  "language_info": {
   "codemirror_mode": {
    "name": "ipython",
    "version": 3
   },
   "file_extension": ".py",
   "mimetype": "text/x-python",
   "name": "python",
   "nbconvert_exporter": "python",
   "pygments_lexer": "ipython3",
   "version": "3.11.1 (tags/v3.11.1:a7a450f, Dec  6 2022, 19:58:39) [MSC v.1934 64 bit (AMD64)]"
  },
  "orig_nbformat": 4,
  "vscode": {
   "interpreter": {
    "hash": "2469a70536e4d2335a2ea8907942d0699c37342a371ac185bdb5b0aa6f073890"
   }
  }
 },
 "nbformat": 4,
 "nbformat_minor": 2
}
