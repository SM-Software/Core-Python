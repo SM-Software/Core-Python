{
 "cells": [
  {
   "attachments": {},
   "cell_type": "markdown",
   "metadata": {},
   "source": [
    "## Introduction to Python\n",
    "\n",
    "### Installing Python\n",
    "- We can install the python from [here](https://www.python.org/).\n",
    "\n",
    "### Importing module in python\n",
    "- We can import a module in python using below code"
   ]
  },
  {
   "cell_type": "code",
   "execution_count": 2,
   "metadata": {},
   "outputs": [],
   "source": [
    "import math"
   ]
  },
  {
   "attachments": {},
   "cell_type": "markdown",
   "metadata": {},
   "source": [
    "### Division\n",
    "\n",
    "- In python we can have two type of division integral division (//) or decimal division (/)\n",
    "- Below is the code snippet for integral and the decimal division"
   ]
  },
  {
   "cell_type": "code",
   "execution_count": 6,
   "metadata": {},
   "outputs": [
    {
     "name": "stdout",
     "output_type": "stream",
     "text": [
      "Decimal factorial  20.0\n",
      "integral factorial  20\n",
      "square root  4.47213595499958\n"
     ]
    }
   ],
   "source": [
    "import math\n",
    "x = 5\n",
    "y = 3\n",
    "\n",
    "res1 = math.factorial(x) / math.factorial(y)\n",
    "print ('Decimal factorial ', res1) # o/p: Decimal factorial 20.0\n",
    "\n",
    "res2 = math.factorial(x) // math.factorial(y)\n",
    "print ('integral factorial ', res2) # o/p: integral factorial 20\n",
    "\n",
    "res3 = math.sqrt(res2)\n",
    "print ('square root ', res3)"
   ]
  },
  {
   "attachments": {},
   "cell_type": "markdown",
   "metadata": {},
   "source": [
    "### Sample script with for loop"
   ]
  },
  {
   "cell_type": "code",
   "execution_count": 1,
   "metadata": {},
   "outputs": [
    {
     "name": "stdout",
     "output_type": "stream",
     "text": [
      "here is output  0\n",
      "here is output  1\n",
      "here is output  2\n",
      "here is output  3\n",
      "here is output  4\n"
     ]
    }
   ],
   "source": [
    "for i in range(5):\n",
    "    print ('here is output ', i)\n"
   ]
  },
  {
   "attachments": {},
   "cell_type": "markdown",
   "metadata": {},
   "source": [
    "### Zen of python\n",
    "- The python zen can be found [here](https://github.com/python/peps)."
   ]
  }
 ],
 "metadata": {
  "kernelspec": {
   "display_name": "Python 3",
   "language": "python",
   "name": "python3"
  },
  "language_info": {
   "codemirror_mode": {
    "name": "ipython",
    "version": 3
   },
   "file_extension": ".py",
   "mimetype": "text/x-python",
   "name": "python",
   "nbconvert_exporter": "python",
   "pygments_lexer": "ipython3",
   "version": "3.11.1 (tags/v3.11.1:a7a450f, Dec  6 2022, 19:58:39) [MSC v.1934 64 bit (AMD64)]"
  },
  "orig_nbformat": 4,
  "vscode": {
   "interpreter": {
    "hash": "2469a70536e4d2335a2ea8907942d0699c37342a371ac185bdb5b0aa6f073890"
   }
  }
 },
 "nbformat": 4,
 "nbformat_minor": 2
}
