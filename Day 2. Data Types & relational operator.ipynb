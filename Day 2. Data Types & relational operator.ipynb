{
 "cells": [
  {
   "attachments": {},
   "cell_type": "markdown",
   "metadata": {},
   "source": [
    "## Python Basic Data Types\n",
    "- int\n",
    "- float\n",
    "- null\n",
    "- bool"
   ]
  },
  {
   "attachments": {},
   "cell_type": "markdown",
   "metadata": {},
   "source": [
    "### int\n",
    "- unlimited precision signed integer\n",
    "- can be created using a int constructor.\n"
   ]
  },
  {
   "cell_type": "code",
   "execution_count": null,
   "metadata": {},
   "outputs": [],
   "source": [
    "# ways to create / represent integer\n",
    "10 # decimal\n",
    "0b10 # binary\n",
    "0o10 # octal\n",
    "0x10 # hexa decimal\n",
    "int(3.5)\n",
    "int(-3.5)\n",
    "int(\"35\")\n",
    "int(10000, 3) # 81\n"
   ]
  },
  {
   "attachments": {},
   "cell_type": "markdown",
   "metadata": {},
   "source": [
    "### float\n",
    "- its an IEEE-754 double-presion with 53-bit binary precision, i.e., 15 - 16 significant digits in decimal\n",
    "- can convert any int or string to float using float constructor\n",
    "- int + float = float\n"
   ]
  },
  {
   "cell_type": "code",
   "execution_count": null,
   "metadata": {},
   "outputs": [],
   "source": [
    "3.123 # simple float\n",
    "3e8 # represents 3*10^8\n",
    "float(7)\n",
    "float(\"4.345\")"
   ]
  },
  {
   "attachments": {},
   "cell_type": "markdown",
   "metadata": {},
   "source": [
    "### None\n",
    "- Often used to represents the absence of a value\n",
    "- None can be bound to any variable like any other object. Python never return none value\n",
    "- we can check if a variable is None like below"
   ]
  },
  {
   "cell_type": "code",
   "execution_count": 1,
   "metadata": {},
   "outputs": [
    {
     "data": {
      "text/plain": [
       "True"
      ]
     },
     "execution_count": 1,
     "metadata": {},
     "output_type": "execute_result"
    }
   ],
   "source": [
    "a = None\n",
    "a is None"
   ]
  },
  {
   "attachments": {},
   "cell_type": "markdown",
   "metadata": {},
   "source": [
    "### Bool\n",
    "- logical logical values\n",
    "- python has bool constructor"
   ]
  },
  {
   "cell_type": "code",
   "execution_count": null,
   "metadata": {},
   "outputs": [],
   "source": [
    "# working with bools\n",
    "bool(0) # false\n",
    "bool(42) # true\n",
    "bool(0.00) # false\n",
    "bool(1.35) # true\n",
    "\n",
    "# bool behaviour with list\n",
    "# empty list returns false\n",
    "bool([]) # false\n",
    "# non-empty list returns false\n",
    "bool([1]) # true\n",
    "\n",
    "# strings behaviour is also similar\n",
    "bool(\"\") # false\n",
    "bool(\"Hi\") # true\n",
    "bool(\"True\") # true\n",
    "bool(\"False\") # true"
   ]
  },
  {
   "attachments": {},
   "cell_type": "markdown",
   "metadata": {},
   "source": [
    "## Logical Operators\n",
    "- ==\n",
    "- !=\n",
    "- >\n",
    "- <\n",
    "- >=\n",
    "- <="
   ]
  }
 ],
 "metadata": {
  "kernelspec": {
   "display_name": "Python 3",
   "language": "python",
   "name": "python3"
  },
  "language_info": {
   "codemirror_mode": {
    "name": "ipython",
    "version": 3
   },
   "file_extension": ".py",
   "mimetype": "text/x-python",
   "name": "python",
   "nbconvert_exporter": "python",
   "pygments_lexer": "ipython3",
   "version": "3.11.1"
  },
  "orig_nbformat": 4,
  "vscode": {
   "interpreter": {
    "hash": "2469a70536e4d2335a2ea8907942d0699c37342a371ac185bdb5b0aa6f073890"
   }
  }
 },
 "nbformat": 4,
 "nbformat_minor": 2
}
