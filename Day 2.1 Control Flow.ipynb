{
 "cells": [
  {
   "attachments": {},
   "cell_type": "markdown",
   "metadata": {},
   "source": [
    "## Control Flow\n",
    "- There are two ways we can control the flow i) if statements ii) while loop\n",
    "\n",
    "### if statement / conditional statement\n",
    "- Branch execution based on the value of an expression\n"
   ]
  },
  {
   "cell_type": "code",
   "execution_count": 6,
   "metadata": {},
   "outputs": [
    {
     "name": "stdout",
     "output_type": "stream",
     "text": [
      "its true\n",
      "Yes please!!\n",
      "between 0 and 15\n"
     ]
    }
   ],
   "source": [
    "# if\n",
    "if True:\n",
    "    print(\"its true\")\n",
    "\n",
    "# if else\n",
    "if \"eggs?\":\n",
    "    print(\"Yes please!!\")\n",
    "else:\n",
    "    print(\"I don't like eggs\")\n",
    "\n",
    "# if else ladder\n",
    "h = 1\n",
    "if h==15:\n",
    "    print('equal to 15')\n",
    "elif h < 15 and h>0:\n",
    "    print(\"between 0 and 15\")\n",
    "else:\n",
    "    print(\"greater than 15\")"
   ]
  },
  {
   "attachments": {},
   "cell_type": "markdown",
   "metadata": {},
   "source": [
    "## Loops\n",
    "\n",
    "### while loop"
   ]
  },
  {
   "cell_type": "code",
   "execution_count": 7,
   "metadata": {},
   "outputs": [
    {
     "name": "stdout",
     "output_type": "stream",
     "text": [
      "5\n",
      "4\n",
      "3\n",
      "2\n",
      "1\n"
     ]
    }
   ],
   "source": [
    "c = 5\n",
    "while c!=0:\n",
    "    print(c)\n",
    "    c-=1"
   ]
  },
  {
   "attachments": {},
   "cell_type": "markdown",
   "metadata": {},
   "source": [
    "### Break\n",
    "- python requires to use while True and break\n",
    "- break jumps out of the inner most executing loop to the line immediatly after it\n"
   ]
  },
  {
   "cell_type": "code",
   "execution_count": null,
   "metadata": {},
   "outputs": [],
   "source": [
    "while True:\n",
    "    response = input()\n",
    "    if int(response) % 7 == 0:\n",
    "        break\n",
    "# As soon as we will enter a number that is divisible by 7, it will be terminated"
   ]
  }
 ],
 "metadata": {
  "kernelspec": {
   "display_name": "Python 3",
   "language": "python",
   "name": "python3"
  },
  "language_info": {
   "codemirror_mode": {
    "name": "ipython",
    "version": 3
   },
   "file_extension": ".py",
   "mimetype": "text/x-python",
   "name": "python",
   "nbconvert_exporter": "python",
   "pygments_lexer": "ipython3",
   "version": "3.11.1"
  },
  "orig_nbformat": 4,
  "vscode": {
   "interpreter": {
    "hash": "2469a70536e4d2335a2ea8907942d0699c37342a371ac185bdb5b0aa6f073890"
   }
  }
 },
 "nbformat": 4,
 "nbformat_minor": 2
}
