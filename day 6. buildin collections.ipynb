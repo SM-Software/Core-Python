{
 "cells": [
  {
   "attachments": {},
   "cell_type": "markdown",
   "metadata": {},
   "source": [
    "## Built-in Collections\n",
    "\n",
    "### Tuple\n",
    "- This are immutable sequence of arbitrary objects.\n",
    "- this are similar to the lists but they are represented by () instead of []\n",
    "- we cannot create a tuple with single element like t = (345) as this will be considered as a integer. To resolve this issue we can have a tailing , after the first element like t = (345,)\n"
   ]
  },
  {
   "cell_type": "code",
   "execution_count": 8,
   "metadata": {},
   "outputs": [
    {
     "name": "stdout",
     "output_type": "stream",
     "text": [
      "length of the tuple t is  3 \n",
      "\n",
      "The tuple contains below items after concatenation \n",
      " (1, 'normay', 32.98, 4.34, 'Saumya')\n",
      "\n",
      " tuple cintains below items after * 3\n",
      " (1, 'normay', 32.98, 4.34, 'Saumya', 1, 'normay', 32.98, 4.34, 'Saumya', 1, 'normay', 32.98, 4.34, 'Saumya')\n",
      "\n",
      " this is the multi-dimension tuple. \n",
      " ((12, 13), ('saumya', 'mishra'), (345.9, 789.6))  \n",
      "\n",
      "we can access one element from the multi-dimension tuple as  mishra\n",
      "\n",
      "\n",
      " Using for loop to traverse the tuple\n",
      "1\n",
      "normay\n",
      "32.98\n",
      "4.34\n",
      "Saumya\n",
      "1\n",
      "normay\n",
      "32.98\n",
      "4.34\n",
      "Saumya\n",
      "1\n",
      "normay\n",
      "32.98\n",
      "4.34\n",
      "Saumya\n"
     ]
    }
   ],
   "source": [
    "# we can create the tuple using below syntax\n",
    "t = (1,'normay', 32.98)\n",
    "\n",
    "# we can get the length of the tuple using length method\n",
    "print(\"length of the tuple t is \", len(t), \"\\n\")\n",
    "\n",
    "# we can concatenate two tuple using the + operator\n",
    "t = t+ (4.34, \"Saumya\")\n",
    "print(\"The tuple contains below items after concatenation \\n\", t)\n",
    "\n",
    "# we can repeat the elements of the tuple n number of times using the * operator\n",
    "t = t*3\n",
    "print(\"\\n tuple cintains below items after * 3\\n\", t)\n",
    "\n",
    "# we can have a multi-dimension tuple as well\n",
    "mt = ((12,13), ('saumya', 'mishra'), (345.9, 789.6))\n",
    "print(\"\\n this is the multi-dimension tuple. \\n\",mt, \" \\n\\nwe can access one element from the multi-dimension tuple as \", mt[1][1])\n",
    "\n",
    "# we can parse a tuple using a for loop\n",
    "print(\"\\n\\n Using for loop to traverse the tuple\")\n",
    "for item in t:\n",
    "    print(item)"
   ]
  },
  {
   "attachments": {},
   "cell_type": "markdown",
   "metadata": {},
   "source": [
    "#### Tuple Destructuring \n",
    "- This feature of python helps to convert the DS to the named references\n",
    "- if a function returns a multiple value from a function then it is converted into a tuple automatically.\n",
    "- This multiple values can be then converted into the named-references using the tuple destructuring\n",
    "- For example, see the code nelow how the squareroot and cube root of the function is being saved to respective variables / named-references( to be more formal)"
   ]
  },
  {
   "cell_type": "code",
   "execution_count": 11,
   "metadata": {},
   "outputs": [
    {
     "name": "stdout",
     "output_type": "stream",
     "text": [
      "Square root =  12.0 \n",
      "cube root =  5.241482788417793\n"
     ]
    }
   ],
   "source": [
    "def square_cube_roots(number):\n",
    "    square_root = number ** (1/2)\n",
    "    cube_root = number ** (1/3)\n",
    "    return square_root, cube_root\n",
    "\n",
    "# converting tuple type to named-references types / tuple restructuring\n",
    "sq_root, cu_root = square_cube_roots(144)\n",
    "print(\"Square root = \", sq_root, \"\\ncube root = \", cu_root)"
   ]
  },
  {
   "attachments": {},
   "cell_type": "markdown",
   "metadata": {},
   "source": [
    "#### More on tuples\n",
    "- we cn create tuple from list or a string.\n",
    "like t = ([1,2,3,4,5])\n",
    "or a string\n",
    "like t = (\"string\") // will result in ('s','t','r','i','n','g')\n",
    "\n",
    "- There are operatr called \"in\" and \"not in\" that will help us to check if a tuple contains a value or not"
   ]
  },
  {
   "attachments": {},
   "cell_type": "markdown",
   "metadata": {},
   "source": [
    "### Strings\n",
    "- We can create a string as in any other language. We can use the + operator to concatenate two or more string, but remember the strings are immutable and each + creates a new object and a named refernce to it.\n",
    "- We can use the join operator as well to join the number of string to gether. \n",
    "- there is a special behaviour of the string.join() operator in python, it allows to specify the separarator for the strings. see below"
   ]
  },
  {
   "cell_type": "code",
   "execution_count": 20,
   "metadata": {},
   "outputs": [
    {
     "name": "stdout",
     "output_type": "stream",
     "text": [
      "The result says: \n",
      " Hello! you have cleared exam successfully\n",
      "\n",
      "The another example says: \n",
      " this;is;another;example\n",
      "\n",
      "The splitted string results as  ['Hello!', 'you', 'have', 'cleared', 'exam', 'successfully']\n",
      "\n",
      "the partition at 'partition' resulted in\n",
      " ('this', 'partition', 'string')\n",
      "\n",
      "this string is formatted - is the result\n",
      "\n",
      "location - 60N , 5E\n",
      "\n",
      "math cnstant: \n",
      " pi=3.141592653589793; e = 2.718281828459045\n"
     ]
    }
   ],
   "source": [
    "# use the separator.join(list of string values) to add the separator after each string.\n",
    "res = \" \".join([\"Hello!\", \"you\", \"have\", \"cleared\", \"exam\", \"successfully\"])\n",
    "print(\"The result says: \\n\", res)\n",
    "\n",
    "# or see below\n",
    "another_res =  \";\".join([\"this\", \"is\", \"another\", \"example\"])\n",
    "print(\"\\nThe another example says: \\n\", another_res)\n",
    "\n",
    "# now we can split the string based on the separator.\n",
    "list = res.split(\" \")\n",
    "print(\"\\nThe splitted string results as \", list)\n",
    "\n",
    "# Another method of splitting the string is partition. It breaks the string into 3 parts, separator, string before separator and the string after separator\n",
    "sample = \"thispartitionstring\"\n",
    "print(\"\\nthe partition at 'partition' resulted in\\n\", sample.partition(\"partition\"))\n",
    "\n",
    "# we can use the string formatter in python as below\n",
    "str = \"\\nthis {0} is {1}\".format(\"string\", \"formatted\")\n",
    "print(\"{0} - is the result\".format(str))\n",
    "\n",
    "# we can also have the named format \n",
    "print(\"\\nlocation - {latitude} , {longitude}\".format(latitude=\"60N\", longitude=\"5E\"))\n",
    "\n",
    "# we can use this with the object as well \n",
    "import math\n",
    "print(\"\\nmath cnstant: \\n pi={m.pi}; e = {m.e}\".format(m=math))"
   ]
  },
  {
   "attachments": {},
   "cell_type": "markdown",
   "metadata": {},
   "source": [
    "### Range\n",
    "- Its a sequence representing an arithematic progression of integers\n",
    "- In python we can only provide the stop value then it will convert it to a range value, ex: range(5) will automatically resolve to range(0,5)\n",
    "- However, we can also provide the start value. Like, range(5,10), this value will go from 5 to 9.\n",
    "- It also rovide us the facility to pass the step value. syntax is range(start_value, stop_value, step_value), ex: range(0,10,2) will return [0,2,4,6,8], remember not including the last value\n",
    "- Enumerate construct an iterable of (index, value) tuples around another iterable object."
   ]
  },
  {
   "attachments": {},
   "cell_type": "markdown",
   "metadata": {},
   "source": [
    "### More on list\n",
    "- We can get the index of an element in the list using list.index() function. It will return the index ofthe list element which is equal o the argument.\n",
    "- We can even count the number of tmes an element is there in the list using the count() method.\n",
    "- del will remove an element from a list. ex: del list_name[index]. we cna also delete an element using the value. ex: list_name.remove(\"element\")\n",
    "- can insert a new element using list.insert(element)\n",
    "- there are also reverse and sort method that will reverse and sort the list elements. The reverse sort method accepts an argument called reverse to sort them in the descending order. ex: list.sort(reverse=true)\n",
    "- It is alos possible to sort the list based ohn the length of the elements. to do that we can pass the key to the argument. like: list.sort(key=len)\n",
    "\n",
    "> Note: When we reverse a list we get the same list but the head will be pointing to the end of the elements. But while we are sorting the list we get a completly new list"
   ]
  },
  {
   "attachments": {},
   "cell_type": "markdown",
   "metadata": {},
   "source": [
    "### Dictionaries\n",
    "- The dict in the python takes a immutable key type aned the values may be of mutable types.\n",
    "- we can use the copy del and insert method to do the modification operations.\n",
    "- the items method on the dict will return the key, value pair as a tuple."
   ]
  },
  {
   "attachments": {},
   "cell_type": "markdown",
   "metadata": {},
   "source": [
    "### sets\n",
    "- sets are the unordered collection of unique data-types\n",
    "- sets are mutable but the elements of the collection must be immutable\n",
    "- sets are created as {1,2,3,4}\n",
    "- An empty {} results in a dictionary so to create an empty set we must use the set()\n",
    "- elements can be added using the add method. also we can add multiple items at a time but using the update method.\n",
    "- there are two methods to remove the elements from a set. they are remove and discard, the difference is that the remove method will return a key error if the element is not there in the set but the discard method doesn't.\n",
    "- the copy method od the set will create a shallow copy of the set, creating the new named-reference but the same element reference\n",
    "\n",
    "#### set algebra\n",
    "- sets are often used to perform the algebric computation. they are union, difference, and intersection, subset, superset and disjoint."
   ]
  },
  {
   "attachments": {},
   "cell_type": "markdown",
   "metadata": {},
   "source": [
    "### Protocol\n",
    "- In python, protocols are a set of operations that a type must support to implement the protocol\n",
    "- Don't need to be defined as interfaces or base classes\n",
    "- types only need to provide the functoning inplementations\n",
    "\n",
    "#### Types of protocols:\n",
    "- container (requires \"in\" and \"not in\" operator)\n",
    "- sized (needs len operator)\n",
    "- iterable (yield items one by one as and when requested)\n",
    "- sequence( requires that the items can be retrieved using square brackets numbered, can be searched using index, can be count by count(), and can be reversed using reversed(). Should also support iterable, sized and container)\n",
    "- mutable sequence \n",
    "- mutable set\n",
    "- mutable mapping"
   ]
  }
 ],
 "metadata": {
  "kernelspec": {
   "display_name": "Python 3",
   "language": "python",
   "name": "python3"
  },
  "language_info": {
   "codemirror_mode": {
    "name": "ipython",
    "version": 3
   },
   "file_extension": ".py",
   "mimetype": "text/x-python",
   "name": "python",
   "nbconvert_exporter": "python",
   "pygments_lexer": "ipython3",
   "version": "3.11.1"
  },
  "orig_nbformat": 4,
  "vscode": {
   "interpreter": {
    "hash": "2469a70536e4d2335a2ea8907942d0699c37342a371ac185bdb5b0aa6f073890"
   }
  }
 },
 "nbformat": 4,
 "nbformat_minor": 2
}
